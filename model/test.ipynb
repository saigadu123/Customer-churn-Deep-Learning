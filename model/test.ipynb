{
 "cells": [
  {
   "cell_type": "code",
   "execution_count": 6,
   "id": "e3d7d548",
   "metadata": {},
   "outputs": [],
   "source": [
    "import pandas as pd\n",
    "import numpy as np\n",
    "from sklearn.model_selection import train_test_split\n",
    "from sklearn.preprocessing import LabelEncoder,StandardScaler\n",
    "from tensorflow.keras.models import Sequential\n",
    "from tensorflow.keras.layers import Dense\n",
    "from tensorflow.keras.models import load_model\n",
    "\n",
    "df = pd.read_csv('../data/bank_churn_data.csv')\n",
    "\n",
    "x = df.drop(['CustomerId','Surname','Exited'],axis=1)\n",
    "y = df[\"Exited\"]\n",
    "\n",
    "x['Geography'] = LabelEncoder().fit_transform(x['Geography'])\n",
    "x['Gender'] = LabelEncoder().fit_transform(x['Gender'])\n"
   ]
  },
  {
   "cell_type": "code",
   "execution_count": 7,
   "id": "a9566f4b",
   "metadata": {},
   "outputs": [],
   "source": [
    "scaler = StandardScaler()\n",
    "x_scaled = scaler.fit_transform(x)"
   ]
  },
  {
   "cell_type": "code",
   "execution_count": 8,
   "id": "1d5c6e1e",
   "metadata": {},
   "outputs": [
    {
     "data": {
      "text/plain": [
       "array([[-0.1660251 , -0.85226648, -0.85634884,  0.77770484, -0.8147018 ,\n",
       "        -1.22441382, -0.95842322,  0.66666667,  0.79056942,  0.25221612],\n",
       "       [-0.26792033,  1.4802523 , -0.85634884,  0.60488154, -1.27518542,\n",
       "         0.16920902, -0.95842322, -1.5       ,  0.79056942,  0.71862565],\n",
       "       [-1.24981982, -0.85226648, -0.85634884,  0.77770484,  1.94819995,\n",
       "         1.4305512 ,  1.6646298 ,  0.66666667, -1.26491106,  0.7765009 ],\n",
       "       [ 0.57503112, -0.85226648, -0.85634884,  0.25923495, -1.27518542,\n",
       "        -1.22441382,  0.35310329, -1.5       , -1.26491106, -0.06121457],\n",
       "       [ 1.97377474,  1.4802523 , -0.85634884,  0.95052813, -0.8147018 ,\n",
       "         0.86267854, -0.95842322,  0.66666667,  0.79056942, -0.67549371],\n",
       "       [ 0.07481818,  0.31399291,  1.16774842,  1.12335143,  1.94819995,\n",
       "         0.66720652,  0.35310329,  0.66666667, -1.26491106,  2.26923222],\n",
       "       [ 1.71440506, -0.85226648,  1.16774842,  2.16029121,  1.48771633,\n",
       "        -1.22441382,  0.35310329,  0.66666667,  0.79056942, -3.55141426],\n",
       "       [-2.41698336, -0.85226648, -0.85634884, -1.46899803,  0.10626545,\n",
       "         0.68867361,  2.97615631,  0.66666667, -1.26491106,  1.00214141],\n",
       "       [-1.25908302,  1.4802523 ,  1.16774842,  1.12335143,  0.10626545,\n",
       "         1.13772279,  0.35310329, -1.5       ,  0.79056942, -0.84814569],\n",
       "       [ 0.43608308, -0.85226648,  1.16774842, -1.81464462, -0.8147018 ,\n",
       "         1.01388508, -0.95842322,  0.66666667,  0.79056942, -0.98209598],\n",
       "       [-1.00897655, -0.85226648, -0.85634884, -1.12335143,  1.0272327 ,\n",
       "        -1.22441382,  0.35310329,  0.66666667, -1.26491106, -0.63218696],\n",
       "       [ 0.91776963,  0.31399291,  1.16774842, -0.25923495, -0.35421817,\n",
       "         0.77104031, -0.95842322, -1.5       ,  0.79056942, -0.22065931],\n",
       "       [-0.43465798,  1.4802523 , -0.85634884,  0.43205824,  0.56674908,\n",
       "         0.3553207 ,  0.35310329,  0.66666667,  0.79056942,  0.6126836 ],\n",
       "       [ 0.58429433, -0.85226648,  1.16774842,  0.08641165,  1.48771633,\n",
       "        -1.22441382, -0.95842322,  0.66666667, -1.26491106,  0.40434787],\n",
       "       [-0.24939392, -0.85226648, -0.85634884,  1.29617473, -0.8147018 ,\n",
       "         0.93732815,  0.35310329, -1.5       ,  0.79056942,  0.11267785],\n",
       "       [-1.45361028,  1.4802523 ,  1.16774842, -1.46899803, -1.27518542,\n",
       "        -1.22441382, -0.95842322,  0.66666667,  0.79056942, -0.8456665 ],\n",
       "       [ 1.5106146 ,  0.31399291, -0.85634884, -0.60488154,  0.10626545,\n",
       "         1.10361599,  1.6646298 ,  0.66666667, -1.26491106,  1.02935505],\n",
       "       [ 0.12113419, -0.85226648,  1.16774842,  0.60488154,  1.0272327 ,\n",
       "        -1.22441382,  0.35310329, -1.5       ,  0.79056942,  0.82101932],\n",
       "       [ 0.76955838, -0.85226648, -0.85634884, -0.08641165, -0.35421817,\n",
       "         0.60475246, -0.95842322,  0.66666667,  0.79056942,  0.154345  ],\n",
       "       [-0.34202595,  1.4802523 ,  1.16774842, -0.95052813, -0.8147018 ,\n",
       "        -1.22441382,  0.35310329,  0.66666667, -1.26491106, -0.34566075],\n",
       "       [ 0.67692636,  0.31399291, -0.85634884, -0.43205824,  0.56674908,\n",
       "         0.85418423, -0.95842322,  0.66666667,  0.79056942,  0.27934643],\n",
       "       [-0.43465798, -0.85226648,  1.16774842,  0.43205824, -0.8147018 ,\n",
       "        -1.22441382,  0.35310329, -1.5       , -1.26491106, -0.01232359],\n",
       "       [ 0.39903027,  1.4802523 , -0.85634884, -0.77770484,  0.10626545,\n",
       "         0.60475246, -0.95842322,  0.66666667,  0.79056942,  0.0710107 ],\n",
       "       [-0.15676189, -0.85226648,  1.16774842,  0.25923495, -0.35421817,\n",
       "        -1.22441382,  0.35310329,  0.66666667, -1.26491106, -0.09565788],\n",
       "       [-0.89781811,  0.31399291, -0.85634884, -1.64182132, -1.27518542,\n",
       "         0.27217678, -0.95842322, -1.5       ,  0.79056942, -0.42899504],\n",
       "       [ 0.58429433, -0.85226648, -0.85634884, -0.25923495,  0.56674908,\n",
       "         0.77104031,  0.35310329,  0.66666667,  0.79056942,  0.19601214]])"
      ]
     },
     "execution_count": 8,
     "metadata": {},
     "output_type": "execute_result"
    }
   ],
   "source": [
    "x_scaled"
   ]
  },
  {
   "cell_type": "code",
   "execution_count": 10,
   "id": "9a5a4519",
   "metadata": {},
   "outputs": [
    {
     "name": "stderr",
     "output_type": "stream",
     "text": [
      "c:\\One-Drive\\OneDrive - Tredence\\Euron-GenAI-\\Customer-churn-Deep-Learning\\.venv\\lib\\site-packages\\keras\\src\\layers\\core\\dense.py:92: UserWarning: Do not pass an `input_shape`/`input_dim` argument to a layer. When using Sequential models, prefer using an `Input(shape)` object as the first layer in the model instead.\n",
      "  super().__init__(activity_regularizer=activity_regularizer, **kwargs)\n"
     ]
    }
   ],
   "source": [
    "x_train,x_test,y_train,y_test = train_test_split(x_scaled,y,test_size=0.2,random_state=42)\n",
    "\n",
    "model = Sequential([\n",
    "    Dense(16,activation='relu',input_shape=(x_train.shape[1],)),\n",
    "    Dense(8,activation='relu'),\n",
    "    Dense(1,activation='sigmoid')\n",
    "])\n"
   ]
  },
  {
   "cell_type": "code",
   "execution_count": 11,
   "id": "514ad519",
   "metadata": {},
   "outputs": [
    {
     "data": {
      "text/html": [
       "<pre style=\"white-space:pre;overflow-x:auto;line-height:normal;font-family:Menlo,'DejaVu Sans Mono',consolas,'Courier New',monospace\"><span style=\"font-weight: bold\">Model: \"sequential\"</span>\n",
       "</pre>\n"
      ],
      "text/plain": [
       "\u001b[1mModel: \"sequential\"\u001b[0m\n"
      ]
     },
     "metadata": {},
     "output_type": "display_data"
    },
    {
     "data": {
      "text/html": [
       "<pre style=\"white-space:pre;overflow-x:auto;line-height:normal;font-family:Menlo,'DejaVu Sans Mono',consolas,'Courier New',monospace\">┏━━━━━━━━━━━━━━━━━━━━━━━━━━━━━━━━━┳━━━━━━━━━━━━━━━━━━━━━━━━┳━━━━━━━━━━━━━━━┓\n",
       "┃<span style=\"font-weight: bold\"> Layer (type)                    </span>┃<span style=\"font-weight: bold\"> Output Shape           </span>┃<span style=\"font-weight: bold\">       Param # </span>┃\n",
       "┡━━━━━━━━━━━━━━━━━━━━━━━━━━━━━━━━━╇━━━━━━━━━━━━━━━━━━━━━━━━╇━━━━━━━━━━━━━━━┩\n",
       "│ dense (<span style=\"color: #0087ff; text-decoration-color: #0087ff\">Dense</span>)                   │ (<span style=\"color: #00d7ff; text-decoration-color: #00d7ff\">None</span>, <span style=\"color: #00af00; text-decoration-color: #00af00\">16</span>)             │           <span style=\"color: #00af00; text-decoration-color: #00af00\">176</span> │\n",
       "├─────────────────────────────────┼────────────────────────┼───────────────┤\n",
       "│ dense_1 (<span style=\"color: #0087ff; text-decoration-color: #0087ff\">Dense</span>)                 │ (<span style=\"color: #00d7ff; text-decoration-color: #00d7ff\">None</span>, <span style=\"color: #00af00; text-decoration-color: #00af00\">8</span>)              │           <span style=\"color: #00af00; text-decoration-color: #00af00\">136</span> │\n",
       "├─────────────────────────────────┼────────────────────────┼───────────────┤\n",
       "│ dense_2 (<span style=\"color: #0087ff; text-decoration-color: #0087ff\">Dense</span>)                 │ (<span style=\"color: #00d7ff; text-decoration-color: #00d7ff\">None</span>, <span style=\"color: #00af00; text-decoration-color: #00af00\">1</span>)              │             <span style=\"color: #00af00; text-decoration-color: #00af00\">9</span> │\n",
       "└─────────────────────────────────┴────────────────────────┴───────────────┘\n",
       "</pre>\n"
      ],
      "text/plain": [
       "┏━━━━━━━━━━━━━━━━━━━━━━━━━━━━━━━━━┳━━━━━━━━━━━━━━━━━━━━━━━━┳━━━━━━━━━━━━━━━┓\n",
       "┃\u001b[1m \u001b[0m\u001b[1mLayer (type)                   \u001b[0m\u001b[1m \u001b[0m┃\u001b[1m \u001b[0m\u001b[1mOutput Shape          \u001b[0m\u001b[1m \u001b[0m┃\u001b[1m \u001b[0m\u001b[1m      Param #\u001b[0m\u001b[1m \u001b[0m┃\n",
       "┡━━━━━━━━━━━━━━━━━━━━━━━━━━━━━━━━━╇━━━━━━━━━━━━━━━━━━━━━━━━╇━━━━━━━━━━━━━━━┩\n",
       "│ dense (\u001b[38;5;33mDense\u001b[0m)                   │ (\u001b[38;5;45mNone\u001b[0m, \u001b[38;5;34m16\u001b[0m)             │           \u001b[38;5;34m176\u001b[0m │\n",
       "├─────────────────────────────────┼────────────────────────┼───────────────┤\n",
       "│ dense_1 (\u001b[38;5;33mDense\u001b[0m)                 │ (\u001b[38;5;45mNone\u001b[0m, \u001b[38;5;34m8\u001b[0m)              │           \u001b[38;5;34m136\u001b[0m │\n",
       "├─────────────────────────────────┼────────────────────────┼───────────────┤\n",
       "│ dense_2 (\u001b[38;5;33mDense\u001b[0m)                 │ (\u001b[38;5;45mNone\u001b[0m, \u001b[38;5;34m1\u001b[0m)              │             \u001b[38;5;34m9\u001b[0m │\n",
       "└─────────────────────────────────┴────────────────────────┴───────────────┘\n"
      ]
     },
     "metadata": {},
     "output_type": "display_data"
    },
    {
     "data": {
      "text/html": [
       "<pre style=\"white-space:pre;overflow-x:auto;line-height:normal;font-family:Menlo,'DejaVu Sans Mono',consolas,'Courier New',monospace\"><span style=\"font-weight: bold\"> Total params: </span><span style=\"color: #00af00; text-decoration-color: #00af00\">321</span> (1.25 KB)\n",
       "</pre>\n"
      ],
      "text/plain": [
       "\u001b[1m Total params: \u001b[0m\u001b[38;5;34m321\u001b[0m (1.25 KB)\n"
      ]
     },
     "metadata": {},
     "output_type": "display_data"
    },
    {
     "data": {
      "text/html": [
       "<pre style=\"white-space:pre;overflow-x:auto;line-height:normal;font-family:Menlo,'DejaVu Sans Mono',consolas,'Courier New',monospace\"><span style=\"font-weight: bold\"> Trainable params: </span><span style=\"color: #00af00; text-decoration-color: #00af00\">321</span> (1.25 KB)\n",
       "</pre>\n"
      ],
      "text/plain": [
       "\u001b[1m Trainable params: \u001b[0m\u001b[38;5;34m321\u001b[0m (1.25 KB)\n"
      ]
     },
     "metadata": {},
     "output_type": "display_data"
    },
    {
     "data": {
      "text/html": [
       "<pre style=\"white-space:pre;overflow-x:auto;line-height:normal;font-family:Menlo,'DejaVu Sans Mono',consolas,'Courier New',monospace\"><span style=\"font-weight: bold\"> Non-trainable params: </span><span style=\"color: #00af00; text-decoration-color: #00af00\">0</span> (0.00 B)\n",
       "</pre>\n"
      ],
      "text/plain": [
       "\u001b[1m Non-trainable params: \u001b[0m\u001b[38;5;34m0\u001b[0m (0.00 B)\n"
      ]
     },
     "metadata": {},
     "output_type": "display_data"
    }
   ],
   "source": [
    "model.summary()"
   ]
  },
  {
   "cell_type": "code",
   "execution_count": null,
   "id": "242ffe23",
   "metadata": {},
   "outputs": [],
   "source": []
  }
 ],
 "metadata": {
  "kernelspec": {
   "display_name": ".venv",
   "language": "python",
   "name": "python3"
  },
  "language_info": {
   "codemirror_mode": {
    "name": "ipython",
    "version": 3
   },
   "file_extension": ".py",
   "mimetype": "text/x-python",
   "name": "python",
   "nbconvert_exporter": "python",
   "pygments_lexer": "ipython3",
   "version": "3.10.16"
  }
 },
 "nbformat": 4,
 "nbformat_minor": 5
}
